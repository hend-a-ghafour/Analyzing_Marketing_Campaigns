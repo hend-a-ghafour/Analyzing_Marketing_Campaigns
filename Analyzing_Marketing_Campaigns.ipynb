{
 "cells": [
  {
   "cell_type": "code",
   "execution_count": 1,
   "id": "2067cfef-248e-49c7-8b33-557a2dca71ad",
   "metadata": {},
   "outputs": [],
   "source": [
    "# Importing Liberaries: \n",
    "import pandas as pd \n",
    "import numpy as np \n",
    "import matplotlib.pyplot as plt \n",
    "import seaborn as sns"
   ]
  },
  {
   "cell_type": "code",
   "execution_count": 2,
   "id": "f044144f-deeb-4824-b84a-06fa858b9463",
   "metadata": {},
   "outputs": [
    {
     "data": {
      "text/html": [
       "<div>\n",
       "<style scoped>\n",
       "    .dataframe tbody tr th:only-of-type {\n",
       "        vertical-align: middle;\n",
       "    }\n",
       "\n",
       "    .dataframe tbody tr th {\n",
       "        vertical-align: top;\n",
       "    }\n",
       "\n",
       "    .dataframe thead th {\n",
       "        text-align: right;\n",
       "    }\n",
       "</style>\n",
       "<table border=\"1\" class=\"dataframe\">\n",
       "  <thead>\n",
       "    <tr style=\"text-align: right;\">\n",
       "      <th></th>\n",
       "      <th>user_id</th>\n",
       "      <th>date_served</th>\n",
       "      <th>marketing_channel</th>\n",
       "      <th>variant</th>\n",
       "      <th>converted</th>\n",
       "      <th>language_displayed</th>\n",
       "      <th>language_preferred</th>\n",
       "      <th>age_group</th>\n",
       "      <th>date_subscribed</th>\n",
       "      <th>date_canceled</th>\n",
       "      <th>subscribing_channel</th>\n",
       "      <th>is_retained</th>\n",
       "    </tr>\n",
       "  </thead>\n",
       "  <tbody>\n",
       "    <tr>\n",
       "      <th>0</th>\n",
       "      <td>a100000029</td>\n",
       "      <td>1/1/18</td>\n",
       "      <td>House Ads</td>\n",
       "      <td>personalization</td>\n",
       "      <td>True</td>\n",
       "      <td>English</td>\n",
       "      <td>English</td>\n",
       "      <td>0-18 years</td>\n",
       "      <td>1/1/18</td>\n",
       "      <td>NaN</td>\n",
       "      <td>House Ads</td>\n",
       "      <td>True</td>\n",
       "    </tr>\n",
       "    <tr>\n",
       "      <th>1</th>\n",
       "      <td>a100000030</td>\n",
       "      <td>1/1/18</td>\n",
       "      <td>House Ads</td>\n",
       "      <td>personalization</td>\n",
       "      <td>True</td>\n",
       "      <td>English</td>\n",
       "      <td>English</td>\n",
       "      <td>19-24 years</td>\n",
       "      <td>1/1/18</td>\n",
       "      <td>NaN</td>\n",
       "      <td>House Ads</td>\n",
       "      <td>True</td>\n",
       "    </tr>\n",
       "    <tr>\n",
       "      <th>2</th>\n",
       "      <td>a100000031</td>\n",
       "      <td>1/1/18</td>\n",
       "      <td>House Ads</td>\n",
       "      <td>personalization</td>\n",
       "      <td>True</td>\n",
       "      <td>English</td>\n",
       "      <td>English</td>\n",
       "      <td>24-30 years</td>\n",
       "      <td>1/1/18</td>\n",
       "      <td>NaN</td>\n",
       "      <td>House Ads</td>\n",
       "      <td>True</td>\n",
       "    </tr>\n",
       "    <tr>\n",
       "      <th>3</th>\n",
       "      <td>a100000032</td>\n",
       "      <td>1/1/18</td>\n",
       "      <td>House Ads</td>\n",
       "      <td>personalization</td>\n",
       "      <td>True</td>\n",
       "      <td>English</td>\n",
       "      <td>English</td>\n",
       "      <td>30-36 years</td>\n",
       "      <td>1/1/18</td>\n",
       "      <td>NaN</td>\n",
       "      <td>House Ads</td>\n",
       "      <td>True</td>\n",
       "    </tr>\n",
       "    <tr>\n",
       "      <th>4</th>\n",
       "      <td>a100000033</td>\n",
       "      <td>1/1/18</td>\n",
       "      <td>House Ads</td>\n",
       "      <td>personalization</td>\n",
       "      <td>True</td>\n",
       "      <td>English</td>\n",
       "      <td>English</td>\n",
       "      <td>36-45 years</td>\n",
       "      <td>1/1/18</td>\n",
       "      <td>NaN</td>\n",
       "      <td>House Ads</td>\n",
       "      <td>True</td>\n",
       "    </tr>\n",
       "  </tbody>\n",
       "</table>\n",
       "</div>"
      ],
      "text/plain": [
       "      user_id date_served marketing_channel          variant converted  \\\n",
       "0  a100000029      1/1/18         House Ads  personalization      True   \n",
       "1  a100000030      1/1/18         House Ads  personalization      True   \n",
       "2  a100000031      1/1/18         House Ads  personalization      True   \n",
       "3  a100000032      1/1/18         House Ads  personalization      True   \n",
       "4  a100000033      1/1/18         House Ads  personalization      True   \n",
       "\n",
       "  language_displayed language_preferred    age_group date_subscribed  \\\n",
       "0            English            English   0-18 years          1/1/18   \n",
       "1            English            English  19-24 years          1/1/18   \n",
       "2            English            English  24-30 years          1/1/18   \n",
       "3            English            English  30-36 years          1/1/18   \n",
       "4            English            English  36-45 years          1/1/18   \n",
       "\n",
       "  date_canceled subscribing_channel is_retained  \n",
       "0           NaN           House Ads        True  \n",
       "1           NaN           House Ads        True  \n",
       "2           NaN           House Ads        True  \n",
       "3           NaN           House Ads        True  \n",
       "4           NaN           House Ads        True  "
      ]
     },
     "execution_count": 2,
     "metadata": {},
     "output_type": "execute_result"
    }
   ],
   "source": [
    "# loading the marketing dataset: \n",
    "marketing=pd.read_csv('marketing.csv')\n",
    "marketing.head()"
   ]
  },
  {
   "cell_type": "code",
   "execution_count": 3,
   "id": "55dd4b1d-8d7c-4b68-b8db-0c3742ad414e",
   "metadata": {},
   "outputs": [
    {
     "name": "stdout",
     "output_type": "stream",
     "text": [
      "<class 'pandas.core.frame.DataFrame'>\n",
      "RangeIndex: 10037 entries, 0 to 10036\n",
      "Data columns (total 12 columns):\n",
      " #   Column               Non-Null Count  Dtype \n",
      "---  ------               --------------  ----- \n",
      " 0   user_id              10037 non-null  object\n",
      " 1   date_served          10021 non-null  object\n",
      " 2   marketing_channel    10022 non-null  object\n",
      " 3   variant              10037 non-null  object\n",
      " 4   converted            10022 non-null  object\n",
      " 5   language_displayed   10037 non-null  object\n",
      " 6   language_preferred   10037 non-null  object\n",
      " 7   age_group            10037 non-null  object\n",
      " 8   date_subscribed      1856 non-null   object\n",
      " 9   date_canceled        577 non-null    object\n",
      " 10  subscribing_channel  1856 non-null   object\n",
      " 11  is_retained          1856 non-null   object\n",
      "dtypes: object(12)\n",
      "memory usage: 941.1+ KB\n"
     ]
    }
   ],
   "source": [
    "# Assessing the dataset: \n",
    "marketing.info()"
   ]
  },
  {
   "cell_type": "code",
   "execution_count": 4,
   "id": "738f58dd-f4ac-4cb7-be12-c2ffb212101a",
   "metadata": {},
   "outputs": [
    {
     "data": {
      "text/plain": [
       "(10037, 12)"
      ]
     },
     "execution_count": 4,
     "metadata": {},
     "output_type": "execute_result"
    }
   ],
   "source": [
    "marketing.shape"
   ]
  },
  {
   "cell_type": "code",
   "execution_count": null,
   "id": "ef727deb-e81f-41dd-a49c-b6dafc082454",
   "metadata": {},
   "outputs": [],
   "source": []
  }
 ],
 "metadata": {
  "kernelspec": {
   "display_name": "Python [conda env:base] *",
   "language": "python",
   "name": "conda-base-py"
  },
  "language_info": {
   "codemirror_mode": {
    "name": "ipython",
    "version": 3
   },
   "file_extension": ".py",
   "mimetype": "text/x-python",
   "name": "python",
   "nbconvert_exporter": "python",
   "pygments_lexer": "ipython3",
   "version": "3.11.5"
  },
  "widgets": {
   "application/vnd.jupyter.widget-state+json": {
    "state": {},
    "version_major": 2,
    "version_minor": 0
   }
  }
 },
 "nbformat": 4,
 "nbformat_minor": 5
}
